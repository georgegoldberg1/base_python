{
 "cells": [
  {
   "cell_type": "markdown",
   "id": "29d93d82",
   "metadata": {},
   "source": [
    "# Write some code <tag id=\"special\">"
   ]
  },
  {
   "cell_type": "markdown",
   "id": "ace71f3a",
   "metadata": {},
   "source": [
    "Reducing memory useage of large dataframes"
   ]
  },
  {
   "cell_type": "code",
   "execution_count": 236,
   "id": "7d69c0e3",
   "metadata": {},
   "outputs": [],
   "source": [
    "import pandas as pd\n",
    "import numpy as np"
   ]
  },
  {
   "cell_type": "code",
   "execution_count": 265,
   "id": "dea07de7",
   "metadata": {},
   "outputs": [
    {
     "data": {
      "text/html": [
       "<div>\n",
       "<style scoped>\n",
       "    .dataframe tbody tr th:only-of-type {\n",
       "        vertical-align: middle;\n",
       "    }\n",
       "\n",
       "    .dataframe tbody tr th {\n",
       "        vertical-align: top;\n",
       "    }\n",
       "\n",
       "    .dataframe thead th {\n",
       "        text-align: right;\n",
       "    }\n",
       "</style>\n",
       "<table border=\"1\" class=\"dataframe\">\n",
       "  <thead>\n",
       "    <tr style=\"text-align: right;\">\n",
       "      <th></th>\n",
       "      <th>0</th>\n",
       "      <th>1</th>\n",
       "      <th>2</th>\n",
       "      <th>3</th>\n",
       "      <th>4</th>\n",
       "      <th>5</th>\n",
       "    </tr>\n",
       "  </thead>\n",
       "  <tbody>\n",
       "    <tr>\n",
       "      <th>0</th>\n",
       "      <td>0.0</td>\n",
       "      <td>-1.715003</td>\n",
       "      <td>1.0</td>\n",
       "      <td>text</td>\n",
       "      <td>1</td>\n",
       "      <td>1.0</td>\n",
       "    </tr>\n",
       "    <tr>\n",
       "      <th>1</th>\n",
       "      <td>0.0</td>\n",
       "      <td>0.222299</td>\n",
       "      <td>1.0</td>\n",
       "      <td>text</td>\n",
       "      <td>2</td>\n",
       "      <td>2.0</td>\n",
       "    </tr>\n",
       "    <tr>\n",
       "      <th>2</th>\n",
       "      <td>0.0</td>\n",
       "      <td>-0.121185</td>\n",
       "      <td>1.0</td>\n",
       "      <td>text</td>\n",
       "      <td>3</td>\n",
       "      <td>3.0</td>\n",
       "    </tr>\n",
       "    <tr>\n",
       "      <th>3</th>\n",
       "      <td>0.0</td>\n",
       "      <td>-0.480708</td>\n",
       "      <td>1.0</td>\n",
       "      <td>text</td>\n",
       "      <td>4</td>\n",
       "      <td>4.0</td>\n",
       "    </tr>\n",
       "    <tr>\n",
       "      <th>4</th>\n",
       "      <td>0.0</td>\n",
       "      <td>0.396265</td>\n",
       "      <td>1.0</td>\n",
       "      <td>text</td>\n",
       "      <td>5</td>\n",
       "      <td>NaN</td>\n",
       "    </tr>\n",
       "  </tbody>\n",
       "</table>\n",
       "</div>"
      ],
      "text/plain": [
       "     0         1    2     3  4    5\n",
       "0  0.0 -1.715003  1.0  text  1  1.0\n",
       "1  0.0  0.222299  1.0  text  2  2.0\n",
       "2  0.0 -0.121185  1.0  text  3  3.0\n",
       "3  0.0 -0.480708  1.0  text  4  4.0\n",
       "4  0.0  0.396265  1.0  text  5  NaN"
      ]
     },
     "execution_count": 265,
     "metadata": {},
     "output_type": "execute_result"
    }
   ],
   "source": [
    "# df = pd.DataFrame([np.zeros(5),\n",
    "#                    np.random.randn(5),\n",
    "#                    np.ones(5),\n",
    "#                   ['text']*5,\n",
    "#                  [1,2,3,'4',5],\n",
    "#                   [1,2,3,'4',np.nan]]).T\n",
    "\n",
    "# #extend the df\n",
    "# df = pd.concat([df for x in range(500000)])\n",
    "\n",
    "# # reload from file so pandas guesses the datatypes to simulate using real data\n",
    "# df.to_csv('test.csv',index=False)\n",
    "raw_df = pd.read_csv('test.csv')\n",
    "raw_df.head()"
   ]
  },
  {
   "cell_type": "code",
   "execution_count": 266,
   "id": "d0e52c6d",
   "metadata": {},
   "outputs": [
    {
     "name": "stdout",
     "output_type": "stream",
     "text": [
      "0 float64 : \t19.07 MB\n",
      "1 float64 : \t19.07 MB\n",
      "2 float64 : \t19.07 MB\n",
      "3 object : \t145.44 MB\n",
      "4 int64 : \t19.07 MB\n",
      "5 float64 : \t19.07 MB\n",
      "total memory: 240.80 MB\n"
     ]
    }
   ],
   "source": [
    "mem_use(raw_df)"
   ]
  },
  {
   "cell_type": "code",
   "execution_count": 267,
   "id": "90c45206",
   "metadata": {},
   "outputs": [],
   "source": [
    "#DEFINE FUNCTIONS  - see article here https://www.kaggle.com/code/zmey56/using-pandas-with-large-data-sets\n",
    "def mem_use(df_):\n",
    "    all_dtype = df_.dtypes\n",
    "    mem = df_.memory_usage(deep=True)\n",
    "    for col in df_.columns:\n",
    "        print(col, all_dtype.loc[col], f\": \\t{mem.loc[col]/ 1024 ** 2:03.2f} MB\")\n",
    "    return print(f\"total memory: {mem.sum()/ 1024 ** 2:03.2f} MB\")\n",
    "    \n",
    "def reduce_dtypes(df_, allow_categorical:bool=True, **field_max: dict):\n",
    "    \"\"\"can give a dictionary for fields where you know the true max value\n",
    "    even if the data doesnt go up that high in the raw data\n",
    "    eg. {'column2':5_000_000_000, 'column3':5}\n",
    "    \"\"\"\n",
    "    original_col_order = list(df_.columns)\n",
    "    \n",
    "    #integers\n",
    "    int_types = [\"int\",\"int8\",\"int16\",\"int32\",\"int64\",\"uint8\",\"uint16\",\"uint32\",\"uint64\"]\n",
    "    df_int = df_.select_dtypes(include=int_types)\n",
    "    df_int_new = df_int.apply(pd.to_numeric, downcast='unsigned')\n",
    "    df_.drop(columns=list(df_int.columns),inplace=True)\n",
    "\n",
    "    #floats\n",
    "    float_types = [\"float\",\"float16\",\"float32\",\"float64\"]\n",
    "    df_float = df_.select_dtypes(include=float_types)\n",
    "    df_float_new = df_float.apply(pd.to_numeric, downcast='float')\n",
    "    df_.drop(columns=list(df_float.columns),inplace=True)\n",
    "    \n",
    "    #categories - if 80% duplication or more\n",
    "    df_obj = df_.select_dtypes(include=['object'])\n",
    "    desc = df_obj.describe()\n",
    "    to_cat = list(desc.T[desc.T['unique'] < 0.2 * desc.T['count']].index)\n",
    "    for cat in to_cat:\n",
    "        df_obj[cat] = df_obj[cat].astype('category')\n",
    "    df_.drop(columns=to_cat,inplace=True)\n",
    "        \n",
    "    df_ = pd.concat([df_, df_int_new, df_float_new, df_obj], axis=1)[original_col_order]\n",
    "    return df_"
   ]
  },
  {
   "cell_type": "code",
   "execution_count": 268,
   "id": "26342347",
   "metadata": {},
   "outputs": [
    {
     "data": {
      "text/plain": [
       "0    float64\n",
       "1    float64\n",
       "2    float64\n",
       "3     object\n",
       "4      int64\n",
       "5    float64\n",
       "dtype: object"
      ]
     },
     "execution_count": 268,
     "metadata": {},
     "output_type": "execute_result"
    }
   ],
   "source": [
    "raw_df.dtypes"
   ]
  },
  {
   "cell_type": "code",
   "execution_count": 271,
   "id": "328e9efb",
   "metadata": {},
   "outputs": [
    {
     "name": "stdout",
     "output_type": "stream",
     "text": [
      "total memory: 0.00 MB\n"
     ]
    },
    {
     "name": "stderr",
     "output_type": "stream",
     "text": [
      "/tmp/ipykernel_27/3941114765.py:4: FutureWarning: The default dtype for empty Series will be 'object' instead of 'float64' in a future version. Specify a dtype explicitly to silence this warning.\n",
      "  mem = df_.memory_usage(deep=True)\n"
     ]
    }
   ],
   "source": [
    "mem_use(raw_df)"
   ]
  },
  {
   "cell_type": "code",
   "execution_count": 270,
   "id": "408c4937",
   "metadata": {},
   "outputs": [
    {
     "data": {
      "text/plain": [
       "0     float32\n",
       "1     float32\n",
       "2     float32\n",
       "3    category\n",
       "4       uint8\n",
       "5     float32\n",
       "dtype: object"
      ]
     },
     "execution_count": 270,
     "metadata": {},
     "output_type": "execute_result"
    }
   ],
   "source": [
    "transformed_df = reduce_dtypes(raw_df)\n",
    "transformed_df.dtypes"
   ]
  },
  {
   "cell_type": "code",
   "execution_count": 257,
   "id": "17666f98",
   "metadata": {},
   "outputs": [
    {
     "name": "stdout",
     "output_type": "stream",
     "text": [
      "0 float32 : \t9.54 MB\n",
      "1 float32 : \t9.54 MB\n",
      "2 float32 : \t9.54 MB\n",
      "3 category : \t2.38 MB\n",
      "4 uint8 : \t2.38 MB\n",
      "5 float32 : \t9.54 MB\n",
      "total memory: 42.92 MB\n"
     ]
    }
   ],
   "source": [
    "mem_use(transformed_df)"
   ]
  },
  {
   "cell_type": "markdown",
   "id": "df287dc5",
   "metadata": {},
   "source": [
    "reduced from 240MB to 42MB. might make a difference for huge datasets."
   ]
  },
  {
   "cell_type": "code",
   "execution_count": 272,
   "id": "b355969f",
   "metadata": {},
   "outputs": [
    {
     "data": {
      "text/html": [
       "<div>\n",
       "<style scoped>\n",
       "    .dataframe tbody tr th:only-of-type {\n",
       "        vertical-align: middle;\n",
       "    }\n",
       "\n",
       "    .dataframe tbody tr th {\n",
       "        vertical-align: top;\n",
       "    }\n",
       "\n",
       "    .dataframe thead th {\n",
       "        text-align: right;\n",
       "    }\n",
       "</style>\n",
       "<table border=\"1\" class=\"dataframe\">\n",
       "  <thead>\n",
       "    <tr style=\"text-align: right;\">\n",
       "      <th></th>\n",
       "      <th>0</th>\n",
       "      <th>1</th>\n",
       "      <th>2</th>\n",
       "      <th>3</th>\n",
       "      <th>4</th>\n",
       "      <th>5</th>\n",
       "    </tr>\n",
       "  </thead>\n",
       "  <tbody>\n",
       "    <tr>\n",
       "      <th>0</th>\n",
       "      <td>0.0</td>\n",
       "      <td>-1.715003</td>\n",
       "      <td>1.0</td>\n",
       "      <td>text</td>\n",
       "      <td>1</td>\n",
       "      <td>1.0</td>\n",
       "    </tr>\n",
       "    <tr>\n",
       "      <th>1</th>\n",
       "      <td>0.0</td>\n",
       "      <td>0.222299</td>\n",
       "      <td>1.0</td>\n",
       "      <td>text</td>\n",
       "      <td>2</td>\n",
       "      <td>2.0</td>\n",
       "    </tr>\n",
       "    <tr>\n",
       "      <th>2</th>\n",
       "      <td>0.0</td>\n",
       "      <td>-0.121185</td>\n",
       "      <td>1.0</td>\n",
       "      <td>text</td>\n",
       "      <td>3</td>\n",
       "      <td>3.0</td>\n",
       "    </tr>\n",
       "    <tr>\n",
       "      <th>3</th>\n",
       "      <td>0.0</td>\n",
       "      <td>-0.480708</td>\n",
       "      <td>1.0</td>\n",
       "      <td>text</td>\n",
       "      <td>4</td>\n",
       "      <td>4.0</td>\n",
       "    </tr>\n",
       "    <tr>\n",
       "      <th>4</th>\n",
       "      <td>0.0</td>\n",
       "      <td>0.396265</td>\n",
       "      <td>1.0</td>\n",
       "      <td>text</td>\n",
       "      <td>5</td>\n",
       "      <td>NaN</td>\n",
       "    </tr>\n",
       "  </tbody>\n",
       "</table>\n",
       "</div>"
      ],
      "text/plain": [
       "     0         1    2     3  4    5\n",
       "0  0.0 -1.715003  1.0  text  1  1.0\n",
       "1  0.0  0.222299  1.0  text  2  2.0\n",
       "2  0.0 -0.121185  1.0  text  3  3.0\n",
       "3  0.0 -0.480708  1.0  text  4  4.0\n",
       "4  0.0  0.396265  1.0  text  5  NaN"
      ]
     },
     "execution_count": 272,
     "metadata": {},
     "output_type": "execute_result"
    }
   ],
   "source": [
    "raw_df = pd.read_csv('test.csv')\n",
    "raw_df.head()"
   ]
  },
  {
   "cell_type": "code",
   "execution_count": 273,
   "id": "f5ea5408",
   "metadata": {},
   "outputs": [],
   "source": [
    "raw_df.to_parquet('raw_df.parquet')\n",
    "transformed_df.to_parquet('transformed_df.parquet')\n",
    "# very fast to write"
   ]
  },
  {
   "cell_type": "code",
   "execution_count": 274,
   "id": "fdd743fb",
   "metadata": {},
   "outputs": [],
   "source": [
    "raw_df_parquet = pd.read_parquet('raw_df.parquet')\n",
    "transformed_df_parquet = pd.read_parquet('transformed_df.parquet')"
   ]
  },
  {
   "cell_type": "code",
   "execution_count": 276,
   "id": "c442a157",
   "metadata": {},
   "outputs": [
    {
     "name": "stdout",
     "output_type": "stream",
     "text": [
      "0 float64 : \t19.07 MB\n",
      "1 float64 : \t19.07 MB\n",
      "2 float64 : \t19.07 MB\n",
      "3 object : \t145.44 MB\n",
      "4 int64 : \t19.07 MB\n",
      "5 float64 : \t19.07 MB\n",
      "total memory: 240.80 MB\n"
     ]
    }
   ],
   "source": [
    "mem_use(raw_df_parquet)"
   ]
  },
  {
   "cell_type": "code",
   "execution_count": 277,
   "id": "f2912b14",
   "metadata": {},
   "outputs": [
    {
     "name": "stdout",
     "output_type": "stream",
     "text": [
      "0 float32 : \t9.54 MB\n",
      "1 float32 : \t9.54 MB\n",
      "2 float32 : \t9.54 MB\n",
      "3 category : \t2.38 MB\n",
      "4 uint8 : \t2.38 MB\n",
      "5 float32 : \t9.54 MB\n",
      "total memory: 42.92 MB\n"
     ]
    }
   ],
   "source": [
    "mem_use(transformed_df_parquet)"
   ]
  },
  {
   "attachments": {
    "image.png": {
     "image/png": "[encoded data removed]"
    }
   },
   "cell_type": "markdown",
   "id": "51e3ff7a",
   "metadata": {},
   "source": [
    "![image.png](attachment:image.png)"
   ]
  },
  {
   "cell_type": "markdown",
   "id": "ce227634",
   "metadata": {},
   "source": [
    "BOTH PARQUET FILES ARE THE SAME SIZE, HOWEVER, PARQUET DOES REMEMBER THE DATATYPES, SO USES LESS MEMORY ON IMPORT!"
   ]
  },
  {
   "cell_type": "code",
   "execution_count": null,
   "id": "f5646ae1",
   "metadata": {},
   "outputs": [],
   "source": []
  },
  {
   "cell_type": "code",
   "execution_count": null,
   "id": "1f64bfea",
   "metadata": {},
   "outputs": [],
   "source": []
  },
  {
   "cell_type": "code",
   "execution_count": null,
   "id": "f6e833a0",
   "metadata": {},
   "outputs": [],
   "source": []
  },
  {
   "cell_type": "code",
   "execution_count": null,
   "id": "760ea5f6",
   "metadata": {},
   "outputs": [],
   "source": []
  },
  {
   "cell_type": "code",
   "execution_count": null,
   "id": "134ac639",
   "metadata": {},
   "outputs": [],
   "source": []
  }
 ],
 "metadata": {
  "kernelspec": {
   "display_name": "Python 3 (ipykernel)",
   "language": "python",
   "name": "python3"
  },
  "language_info": {
   "codemirror_mode": {
    "name": "ipython",
    "version": 3
   },
   "file_extension": ".py",
   "mimetype": "text/x-python",
   "name": "python",
   "nbconvert_exporter": "python",
   "pygments_lexer": "ipython3",
   "version": "3.10.4"
  }
 },
 "nbformat": 4,
 "nbformat_minor": 5
}
